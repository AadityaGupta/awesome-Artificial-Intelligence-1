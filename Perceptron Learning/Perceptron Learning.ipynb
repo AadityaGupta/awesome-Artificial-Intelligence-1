{
 "cells": [
  {
   "cell_type": "markdown",
   "metadata": {},
   "source": [
    "# What is the hack - Perceptron?\n",
    "\n",
    "- A perceptron uses the basic ideas of machine learning and neural networks. \n",
    "- The idea is that you use feed a program a bunch of inputs, and it learns how to process those inputs into an output. - It does that by assigning each input a weight. \n",
    "- Each input is multiplied by that weight, and summed together. \n",
    "- Lastly, we need to turn that sum into a value: 1 or -1. \n",
    "- When training a perceptron, we evaluate the output that our program generates, and adjust our weights based on what the inputs were supposed to output. \n",
    "- In effect, perceptrons can help us classify data.\n",
    "<br>\n",
    "![alt text](perceptron.png \"Perceptron\")\n",
    "\n",
    "\n",
    "\n",
    "## Coding a Perceptron Class\n",
    "\n",
    "\n",
    "After complete understanding the code of perceptron, you will be like :\n",
    "<br>\n",
    "![alt text](giphy.gif \"Yeah\")\n",
    "<br>\n",
    "### Let's Start :\n",
    "\n"
   ]
  },
  {
   "cell_type": "code",
   "execution_count": 20,
   "metadata": {},
   "outputs": [],
   "source": [
    "import random\n",
    "class Perceptron:\n",
    "    def __init__(self, learn_speed, num_weights):\n",
    "        self.speed = learn_speed\n",
    "        self.weights = []\n",
    "        for x in range(0, num_weights):\n",
    "            self.weights.append(random.random()*2-1)\n",
    "        #print(\"Self weights are \",self.weights)\n",
    "        \n",
    "    def feed_forward(self, inputs):\n",
    "        sum = 0\n",
    "        # multiply inputs by weights and sum them\n",
    "        for x in range(0, len(self.weights)):\n",
    "            sum += self.weights[x] * inputs[x]\n",
    "        # return the 'activated' sum\n",
    "            #print(\"\\n Activate sum is \",self.activate(sum))\n",
    "        return self.activate(sum)\n",
    "    \n",
    "    def activate(self, num):\n",
    "        # turn a sum over 0 into 1, and below 0 into -1\n",
    "        if num > 0:\n",
    "            return 1\n",
    "        return -1\n",
    "    \n",
    "    def train(self, inputs, desired_output):\n",
    "        guess = self.feed_forward(inputs)\n",
    "        error = desired_output - guess\n",
    "        for x in range(0, len(self.weights)):\n",
    "            self.weights[x] += error*inputs[x]*self.speed"
   ]
  },
  {
   "cell_type": "markdown",
   "metadata": {},
   "source": [
    "<br>\n",
    "![alt text](perceptron2.gif \"Perceptron 2\")\n",
    "\n",
    "\n",
    "\n",
    "\n",
    "\n",
    "### Step by step :<br>\n",
    "The first parameter, learn_speed, is used to control how fast our perceptron will learn. The lower the value, the longer it will take to learn, but the less one value will change each overall weight. If this parameter is too high, our program will change its weights so quickly that they are inaccurate.\n",
    "<br>\n",
    "On the other hand, if learn_speed is too low, it will take forever to train the perceptron accurately\n",
    "<br>\n",
    "**A good value for this parameter is about 0.01-0.05.**\n",
    "\n",
    "<br>\n",
    "The second parameter, num_weights, controls how many weights the perceptron will have. Our perceptron will also have the same number of inputs as it does weights, because each input has its own weight.\n",
    "<br>\n",
    "\n",
    "**Basic Idea :**\n",
    "We need to create a function in our class to take in inputs, and turn them into an output. We do this by multiplying each input by its corresponding weight, summing all those together, and then checking if the sum is greater than 0.\n",
    "\n",
    "####  Let’s dissect this code piece by piece\n",
    "- The first function, feed_forward, is used to turn inputs into outputs.\n",
    "- The term feed forward is commonly used in neural networks to describe this process of turning inputs into outputs.\n",
    "- This method weights each input based on each corresponding weights. \n",
    "- It sums them up, and then uses the activate function to return either 1 or -1.\n",
    "\n",
    "**The activate function is used to turn a number into 1 or -1. This is implemented because when we use a perceptron we want to classify data. We classify it into two groups, one of which is represented by 1, and the other is represented by -1.**\n",
    "\n",
    "\n",
    "### Be Quick :\n",
    "> “What’s the use of this if the weights are random?” \n",
    "\n",
    "\n",
    "<br>\n",
    "Most of the first few lines should make sense. Our function takes in inputs, and the output that should happen when we run the inputs through our program. We make a guess on the inputs using our feed_forward function, and then calculate our error based on what we should have outputted. Notice that if we predicted correctly, error will equal 0, and the last line of our function will not change our weights at all.\n",
    "<br>\n",
    "The last two lines of this function are the juicy part. They put the learning in machine learning. We loop through each weight, and adjust it by how much error we had. Notice that we are using the self.speed variable here, which determines how fast out perceptron learns. By running this train function on a bunch of inputs and their outputs, we can eventually teach our perceptron to get the correct output.\n",
    "\n",
    "\n",
    "### Training the Perceptron\n",
    "Our perceptron has no use if we don’t actually train it. We will do this by coding a quick Trainer class. In this example, we will train our perceptron to tell us whether a point is above a line or below a line. Our line in this case is represented by the equation y = 0.5x + 10. Once you know how to train a perceptron to recognize a line, you can represent x and y as different attributes, and above or below the line as results of those attributes.\n",
    "For example, if you had a dataset on the GPAs and ACT scores of Harvard applicants, and whether they got accepted or not, you could train a perceptron to find a line on a graph where x=GPA score and y=ACT score. Above the line would be students that got accepted, and below the line would be students that got rejected. You could then use this perceptron to predict whether or not a student will get accepted into Harvard based on their GPA and ACT scores.\n",
    "In this example, we’ll stick with recognizing a line. To do this, we will create a Trainer class that trains a perceptron with points, and whether or not they are above the line. Below is the code for our Trainer class."
   ]
  },
  {
   "cell_type": "code",
   "execution_count": 21,
   "metadata": {
    "collapsed": true
   },
   "outputs": [],
   "source": [
    "class Trainer:\n",
    "    def __init__(self):\n",
    "        self.perceptron = Perceptron(0.01, 3)\n",
    "    def f(self, x):\n",
    "        return 0.5*x + 10 # line: f(x) = 0.5x + 10\n",
    "    def train(self):\n",
    "        for x in range(0, 1000000):\n",
    "            x_coord = random.random()*500-250\n",
    "            #print \"x_coord is \",x_coord\n",
    "            y_coord = random.random()*500-250\n",
    "            #print \"y_coord is \",y_coord            \n",
    "            line_y = self.f(x_coord)\n",
    "            #print \"Line_y is \",line_y\n",
    "            if y_coord > line_y: # above the line\n",
    "                answer = 1\n",
    "                self.perceptron.train([x_coord, y_coord,1], answer)\n",
    "            else: # below the line\n",
    "                answer = -1\n",
    "                self.perceptron.train([x_coord, y_coord,1], answer)\n",
    "        return self.perceptron # return our trained perceptron"
   ]
  },
  {
   "cell_type": "markdown",
   "metadata": {},
   "source": [
    "As you can see, the initializer for the Trainer class creates a perceptron with three inputs and a learning speed of 0.01. The first two inputs are x and y, but what is the last input? This is another core concept of neural networks and machine learning. That last input we will always set to 1. The weight that corresponds to it will determine how it affects our line. For example, if you look back at our equation: y = 0.5x + 10, we need some way of representing the y-intercept, 10. We do this by creating a third input that increases or decreases based on the weight that the perceptron trains it to have. \n",
    "\n",
    "### Role of bias :\n",
    "Biases are almost always helpful. In effect, a bias value allows you to shift the activation function to the left or right, which may be critical for successful learning.\n",
    "\n",
    "It might help to look at a simple example. Consider this 1-input, 1-output network that has no bias:\n",
    "\n",
    "![alt text](bias_simple.gif \"Bias Simple concept\")\n",
    "The output of the network is computed by multiplying the input (x) by the weight (w0) and passing the result through some kind of activation function (e.g. a sigmoid function.)\n",
    "\n",
    "Here is the function that this network computes, for various values of w0:\n",
    "\n",
    "![alt text](output_graph.png \"Graph without bias\")\n",
    "\n",
    "Changing the weight w0 essentially changes the \"steepness\" of the sigmoid. That's useful, but what if you wanted the network to output 0 when x is 2? Just changing the steepness of the sigmoid won't really work -- you want to be able to shift the entire curve to the right.\n",
    "\n",
    "That's exactly what the bias allows you to do. If we add a bias to that network, like so:\n",
    "\n",
    "![alt text](input_bias.gif \"Input Bias\")\n",
    "then the output of the network becomes sig(w0*x + w1*1.0). Here is what the output of the network looks like for various values of w1:\n",
    "\n",
    "\n",
    "![alt text](bias_graph.png \"Graph with bias\")\n",
    "\n",
    "\n",
    "![alt text](getBack.gif \"Get back to me\")\n",
    "\n",
    "\n",
    "\n",
    "\n",
    "\n",
    "\n",
    "\n",
    "**So let's get back** : In our f function, we take in an x coordinate and return a y coordinate. This is used to find points on the line based on their x coordinate, which will come in handy in the next function.\n",
    "This train function for the Trainer class is where all the magic happens, and we actually get to train our perceptron. We start off by looping 1 million times. Remember how we had a learning speed for our perceptron? The more times that we train our perceptron (in this case, 1 million times), the more accurate it will become, even with a low learning speed.<br><br>\n",
    "In each iteration of the loop, we create a point, determine if it is above or below the line, and then feed those inputs into the perceptron’s train method. First, x and y coordinates are randomly generated between -250 and 250. Next we find where the y coordinate would be on the line for that x value to see if our point is above the line. For example, if we picked a point at (1, 3), then we should get the y coordinate of the line for the x value of 3. We do this with our f function. If our random y coordinate is higher than the corresponding y coordinate on the line, we know that our random coordinate is above the line.<br>\n",
    "That’s what we do in the if...else statement. If our point is above the line, we set the expected output, stored in answer to be 1. If our point is below the line, our expected output is -1. We then train our perceptron based on the x coordinate, the y coordinate, and our expected output. After the whole loop is done, we return our newly trained perceptron object.\n",
    "\n",
    "\n",
    "\n"
   ]
  },
  {
   "cell_type": "code",
   "execution_count": 22,
   "metadata": {},
   "outputs": [
    {
     "name": "stdout",
     "output_type": "stream",
     "text": [
      "( -7 , 9 ) :  1\n",
      "( 3 , 1 ) :  -1\n"
     ]
    }
   ],
   "source": [
    "trainer = Trainer()\n",
    "p = trainer.train()\n",
    "print \"( -7 , 9 ) : \" , p.feed_forward([-7,9,1])\n",
    "print \"( 3 , 1 ) : \" ,p.feed_forward([3,1,1])"
   ]
  },
  {
   "cell_type": "markdown",
   "metadata": {},
   "source": [
    "Success! Our program has detected whether each point is above or below the line. You can try more points to test for yourself that the program is running correctly."
   ]
  }
 ],
 "metadata": {
  "kernelspec": {
   "display_name": "Python 2",
   "language": "python",
   "name": "python2"
  },
  "language_info": {
   "codemirror_mode": {
    "name": "ipython",
    "version": 2
   },
   "file_extension": ".py",
   "mimetype": "text/x-python",
   "name": "python",
   "nbconvert_exporter": "python",
   "pygments_lexer": "ipython2",
   "version": "2.7.13"
  }
 },
 "nbformat": 4,
 "nbformat_minor": 2
}
