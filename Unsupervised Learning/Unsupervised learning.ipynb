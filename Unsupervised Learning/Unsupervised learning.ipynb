{
 "cells": [
  {
   "cell_type": "code",
   "execution_count": 15,
   "metadata": {
    "collapsed": true
   },
   "outputs": [],
   "source": [
    "from IPython.display import Image\n",
    "from IPython.core.display import HTML"
   ]
  },
  {
   "cell_type": "markdown",
   "metadata": {},
   "source": [
    "# Unsupervised Learning\n",
    "\n",
    "Unsupervised learning is a type of machine learning algorithm used to draw inferences from datasets consisting of input data without labeled responses.\n",
    "\n",
    "The most common unsupervised learning method is cluster analysis, which is used for exploratory data analysis to find hidden patterns or grouping in data. The clusters are modeled using a measure of similarity which is defined upon metrics such as Euclidean or probabilistic distance.\n",
    "\n",
    "Common clustering algorithms include:\n",
    "\n",
    "- **Hierarchical clustering:** builds a multilevel hierarchy of clusters by creating a cluster tree.\n",
    "- **k-Means clustering:** partitions data into k distinct clusters based on distance to the centroid of a cluster.\n",
    "- **Gaussian mixture models**: models clusters as a mixture of multivariate normal density components.\n",
    "- **Self-organizing maps**: uses neural networks that learn the topology and distribution of the data.\n",
    "- **Hidden Markov models**: uses observed data to recover the sequence of states.\n",
    "\n",
    "Unsupervised learning methods are used in bioinformatics for sequence analysis and genetic clustering. \n",
    "<br>\n",
    "In data mining for sequence and pattern mining,in medical imaging for image segmentation,and in computer vision for object recognition.\n",
    "\n",
    "Clustering algorithm are useful in\n",
    "- **Market segmentation**\n",
    "- **Organizing computing clusters**\n",
    "- **Social network analysis**\n",
    "- **Astronomical data analysis**"
   ]
  },
  {
   "cell_type": "markdown",
   "metadata": {
    "scrolled": true
   },
   "source": [
    "![alt text](supervised_unsupervised.png \"Supervised vs Unsupervised.png\")"
   ]
  },
  {
   "cell_type": "markdown",
   "metadata": {},
   "source": [
    "# Hierarchical clustering"
   ]
  },
  {
   "cell_type": "markdown",
   "metadata": {
    "collapsed": true
   },
   "source": [
    "![alt text](Hierarchical_Clustering.png \"Hierarchical Clustering\")"
   ]
  },
  {
   "cell_type": "markdown",
   "metadata": {},
   "source": [
    "In data mining and statistics, hierarchical clustering (also called hierarchical cluster analysis or HCA) is a method of cluster analysis which seeks to build a hierarchy of clusters. Strategies for hierarchical clustering generally fall into two types\n",
    "<br>\n",
    "### Agglomerative:\n",
    "This is a \"bottom up\" approach: each observation starts in its own cluster, and pairs of clusters are merged as one moves up the hierarchy.\n",
    "<br>\n",
    "### Divisive: \n",
    "This is a \"top down\" approach: all observations start in one cluster, and splits are performed recursively as one moves down the hierarchy.\n",
    "In general, the merges and splits are determined in a greedy manner. The results of hierarchical clustering are usually presented in a dendrogram."
   ]
  },
  {
   "cell_type": "markdown",
   "metadata": {},
   "source": [
    "![alt text](Hierarchical Clustering_lable.png \"Hierarchical Clustering\")"
   ]
  },
  {
   "cell_type": "markdown",
   "metadata": {},
   "source": [
    "![alt text](agnes_div.png \"Hierarchical Clustering\" )"
   ]
  },
  {
   "cell_type": "markdown",
   "metadata": {},
   "source": [
    "# K means Clustering\n",
    "<br>\n",
    "K-means clustering is a type of unsupervised learning, which is used when you have unlabeled data (i.e., data without defined categories or groups). The goal of this algorithm is to find groups in the data, with the number of groups represented by the variable K. The algorithm works iteratively to assign each data point to one of K groups based on the features that are provided. Data points are clustered based on feature similarity. The results of the K-means clustering algorithm are:\n",
    "\n",
    "1. The centroids of the K clusters, which can be used to label new data\n",
    "\n",
    "2. Labels for the training data (each data point is assigned to a single cluster)\n",
    "\n",
    "The K-means clustering algorithm is used to find groups which have not been explicitly labeled in the data. This can be used to confirm business assumptions about what types of groups exist or to identify unknown groups in complex data sets. Once the algorithm has been run and the groups are defined, any new data can be easily assigned to the correct group.\n",
    "\n",
    "**Behavioral segmentation:**\n",
    "\n",
    "- Segment by purchase history\n",
    "- Segment by activities on application, website, or platform\n",
    "- Define personas based on interests\n",
    "- Create profiles based on activity monitoring\n",
    "\n",
    "**Inventory categorization:**\n",
    "\n",
    "- Group inventory by sales activity\n",
    "- Group inventory by manufacturing metrics\n",
    "- Sorting sensor measurements:\n",
    "- Detect activity types in motion sensors\n",
    "- Group images\n",
    "- Separate audio\n",
    "- Identify groups in health monitoring\n",
    "\n",
    "**Detecting bots or anomalies:**\n",
    "\n",
    "- Separate valid activity groups from bots\n",
    "- Group valid activity to clean up outlier detection\n"
   ]
  },
  {
   "cell_type": "markdown",
   "metadata": {
    "collapsed": true
   },
   "source": [
    "[**Astronomy Dataset**](http://www.astroml.org/examples/datasets/plot_sdss_galaxy_colors.html)\n",
    "<br>\n",
    "[**Youtube Video of clustering**](https://youtu.be/62zY8mA-UVQ?t=501)\n",
    "<br>"
   ]
  },
  {
   "cell_type": "markdown",
   "metadata": {},
   "source": [
    "![alt text](gif_more_code.gif \"Hierarchical Clustering\")\n"
   ]
  },
  {
   "cell_type": "code",
   "execution_count": 5,
   "metadata": {
    "collapsed": true
   },
   "outputs": [],
   "source": [
    "import numpy as np\n",
    "from sklearn.cluster import KMeans\n",
    "import matplotlib.pyplot as py\n",
    "%matplotlib inline  "
   ]
  },
  {
   "cell_type": "code",
   "execution_count": 7,
   "metadata": {},
   "outputs": [],
   "source": [
    "f=open('data_1024.csv')\n",
    "a=f.readlines()\n",
    "f.close()\n",
    "d={}\n",
    "for i in a:\n",
    "    c=i.split()\n",
    "    d[c[0]]=[c[1],c[2]]\n",
    "    #print(d[c[0]])"
   ]
  },
  {
   "cell_type": "code",
   "execution_count": 17,
   "metadata": {
    "scrolled": true
   },
   "outputs": [
    {
     "data": {
      "text/plain": [
       "[<matplotlib.lines.Line2D at 0x7f7fad5702b0>]"
      ]
     },
     "execution_count": 17,
     "metadata": {},
     "output_type": "execute_result"
    },
    {
     "data": {
      "image/png": "[encoded data removed]",
      "text/plain": [
       "<matplotlib.figure.Figure at 0x7f7fad576978>"
      ]
     },
     "metadata": {},
     "output_type": "display_data"
    }
   ],
   "source": [
    "l1=[]\n",
    "l2=[]\n",
    "l1_2=[]\n",
    "for i in d:\n",
    "    l1.append(d[i][0])\n",
    "    l2.append(d[i][1])\n",
    "    l1_2.append([d[i][0],d[i][1]])\n",
    "nl1=np.array(l1_2[1:])\n",
    "l1=l1[1:]\n",
    "l2=l2[1:]\n",
    "kmeans = KMeans(n_clusters=2, random_state=0).fit(nl1)\n",
    "py.figure(figsize=(15,10))\n",
    "py.plot(nl1[np.where(kmeans.labels_==0)][:,0],nl1[np.where(kmeans.labels_==0)][:,1],'r4')\n",
    "py.plot(nl1[np.where(kmeans.labels_==1)][:,0],nl1[np.where(kmeans.labels_==1)][:,1],'c4')\n"
   ]
  },
  {
   "cell_type": "code",
   "execution_count": null,
   "metadata": {
    "collapsed": true
   },
   "outputs": [],
   "source": [
    "\n"
   ]
  },
  {
   "cell_type": "markdown",
   "metadata": {
    "collapsed": true
   },
   "source": [
    "# Self Organizing Map\n",
    "\n",
    "Self Organizing Map(SOM) by Teuvo Kohonen provides a data visualization technique which helps to understand high dimensional data by reducing the dimensions of data to a map. SOM also represents clustering concept by grouping similar data together. Therefore it can be said that SOM reduces data dimensions and displays similarities among data.\n",
    "\n",
    "With SOM, clustering is performed by having several units compete for the current object. Once the data have been entered into the system, the newtwork of artificial neurons is trained by providing information about inputs. The weight vector of the unit is closest to the current object becomes the winning or active unit. During the training stage, the values for the input variables are gradually adjusted in an attempt to preserve neighborhood relationships that exist within the input data set. As it gets closer to the input object, the weights of the winning unit are adjusted as well as its neighbors.\n",
    "\n",
    "Each data from data set recognizes themselves by competeting for representation. SOM mapping steps starts from initializing the weight vectors. From there a sample vector is selected randomly and the map of weight vectors is searched to find which weight best represents that sample. Each weight vector has neighboring weights that are close to it. The weight that is chosen is rewarded by being able to become more like that randomly selected sample vector. The neighbors of that weight are also rewarded by being able to become more like the chosen sample vector. From this step the number of neighbors and how much each weight can learn decreases over time. This whole process is repeated a large number of times, usually more than 1000 times. \n",
    "\n",
    "In sum, learning occurs in several steps and over many iterations. :<br><br>\n",
    "**#) **Each node's weights are initialized.<br>\n",
    "**#) **A vector is chosen at random from the set of training data.<br>\n",
    "**#) **Every node is examined to calculate which one's weights are most like the input vector. The winning node is commonly known as the Best Matching Unit (BMU).<br>\n",
    "**#) **Then the neighbourhood of the BMU is calculated. The amount of neighbors decreases over time.<br>\n",
    "**#) **The winning weight is rewarded with becoming more like the sample vector. The nighbors also become more like the sample vector. The closer a node is to the BMU, the more its weights get altered and the farther away the neighbor is from the BMU, the less it learns.<br>\n",
    "**#) **Repeat step 2 for N iterations.<br>\n",
    "\n",
    "![alt text](kohonen1.gif \"SOM\")\n",
    "\n",
    "[**Self-Organizing map Introduction**](https://www.youtube.com/watch?v=GdZckTLNqsY)<br>\n",
    "[**Self-Organizing map Application**](https://arxiv.org/pdf/cond-mat/0305330.pdf)<br>\n",
    "[**Self-Organizing Code**](http://www.pymvpa.org/examples/som.html)\n",
    "\n",
    "\n",
    "\n",
    "# Learning Vector Quantization (LVQ Network)\n",
    "\n",
    "A downside of K-Nearest Neighbors is that you need to hang on to your entire training dataset.\n",
    "The Learning Vector Quantization algorithm (or LVQ for short) is an artificial neural network algorithm that lets you choose how many training instances to hang onto and learns exactly what those instances should look like.\n",
    "\n",
    "LVQ Model Representation\n",
    "\n",
    "The representation for LVQ is a collection of codebook vectors.<br>\n",
    "LVQ was developed and is best understood as a classification algorithm. It supports both binary (two-class) and multi-class classification problems.<br>\n",
    "A codebook vector is a list of numbers that have the same input and output attributes as your training data. For example, if your problem is a binary classification with classes 0 and 1, and the inputs width, length height, then a codebook vector would be comprised of all four attributes: width, length, height and class.<br>\n",
    "The model representation is a fixed pool of codebook vectors, learned from the training data. They look like training instances, but the values of each attribute have been adapted based on the learning procedure.<br>\n",
    "In the language of neural networks, each codebook vector may be called a neuron, each attribute on a codebook vector is called a weight and the collection of codebook vectors is called a network.<br>\n",
    "\n",
    "An LVQ system is represented by prototypes { W=(w(i),...,w(n))} { W=(w(i),...,w(n))} which are defined in the feature space of observed data. In winner-take-all training algorithms one determines, for each data point, the prototype which is closest to the input according to a given distance measure. The position of this so-called winner prototype is then adapted, i.e. the winner is moved closer if it correctly classifies the data point or moved away if it classifies the data point incorrectly.\n",
    "\n",
    "LVQ can be a source of great help in classifying text documents.\n",
    "\n",
    "![alt text](https://media.giphy.com/media/l2Sq2AG0wrEXQgLGU/giphy.gif \"end\")"
   ]
  },
  {
   "cell_type": "code",
   "execution_count": null,
   "metadata": {
    "collapsed": true
   },
   "outputs": [],
   "source": []
  }
 ],
 "metadata": {
  "kernelspec": {
   "display_name": "Python 3",
   "language": "python",
   "name": "python3"
  },
  "language_info": {
   "codemirror_mode": {
    "name": "ipython",
    "version": 3
   },
   "file_extension": ".py",
   "mimetype": "text/x-python",
   "name": "python",
   "nbconvert_exporter": "python",
   "pygments_lexer": "ipython3",
   "version": "3.6.1"
  }
 },
 "nbformat": 4,
 "nbformat_minor": 2
}
