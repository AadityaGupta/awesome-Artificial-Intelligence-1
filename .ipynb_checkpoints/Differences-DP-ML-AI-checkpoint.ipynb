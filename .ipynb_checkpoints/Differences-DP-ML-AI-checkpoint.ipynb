{
 "cells": [
  {
   "cell_type": "markdown",
   "metadata": {},
   "source": [
    "# Differnce between DP-Ml-AI\n",
    "<br><br>\n",
    "![alt text](aimldp.png \"Difference between Ai and Ml\")\n",
    "\n",
    "\n",
    "\n",
    "## Deep Learning \n",
    "\n",
    "https://www.youtube.com/watch?v=1G0e-mR9a4k\n",
    "\n",
    "\n",
    "Deep learning (also known as deep structured learning, hierarchical learning, or deep machine learning) is the study of artificial neural networks and related machine learning algorithms that contain more than one hidden layer.\n",
    "\n",
    "Deep learning is a special type of machine-learning algorithm—it is multiple layers of neural networks that mimic the connectivity of the brain, and these types of connectivity seem to work much better than pre-existing systems,” said Samarjit Das, a senior research scientist at Bosch. \n",
    "<br><br>\n",
    "“We currently have to define parameters for machine learning based on our human experience. When we look at images of apples and oranges, we need to define features manually, so that machine-learning systems can identify the difference. Deep learning is the next level because it can create those distinctions on its own. By just showing sample images of apples and oranges to a deep-learning system, **it will create its own rules** realizing that color and geometry are the key features that distinguish which are which, and not have to teach it based off human knowledge.”\n",
    "\n",
    " \n",
    "\n",
    "## Machine Learning\n",
    "\n",
    "In simple words, it is a method of teaching computers to make predictions based on some data.<br>\n",
    "\n",
    "Machine Learning: A type of AI that can include but isn’t limited to neural networks and deep learning. Generally, it is the ability for a computer to output or do something that it wasn’t programmed to do.<br>\n",
    "https://www.youtube.com/watch?v=f_uwKZIAeM0\n",
    "\n",
    "\n",
    "https://www.youtube.com/watch?v=ty-kTUzMnjk\n",
    "\n",
    "\n",
    "Let's see what Sundar Pichai wants to tell for this -<br> https://www.youtube.com/watch?v=5cFUZ03Sbhc\n",
    "\n",
    "https://www.intel.com/content/www/us/en/analytics/ai-luminary-reza-zadeh-video.html\n",
    "\n",
    "\n",
    "** Artificial Intelligence and Machine learning\"**\n",
    "https://www.youtube.com/watch?v=1eBxt9HUfh8\n",
    "\n",
    "\n",
    "## Artificial Intelligence\n",
    "Artificial Intelligence (AI) is usually defined as the science of making computers do things that require intelligence when done by humans.\n",
    "\n",
    "https://www.youtube.com/watch?v=fvtrRGmv7aU\n",
    "\n",
    "## Types of AI \n",
    "- Weak \n",
    "- Strong\n",
    "\n",
    "### Weak AI : \n",
    "It might behave as though a robot or manufacturing line is thinking on its own. However, it’s supervised programming, which means there is a programmed output, or action for given inputs.  \n",
    "\n",
    "\n",
    "### Strong AI \n",
    "It is a system that might actually change an output based on given goals and input data. A program could do something it wasn’t programmed to if it notices a pattern and determines a more efficient way of accomplishing the goal it was given. \n"
   ]
  },
  {
   "cell_type": "code",
   "execution_count": null,
   "metadata": {
    "collapsed": true
   },
   "outputs": [],
   "source": []
  }
 ],
 "metadata": {
  "kernelspec": {
   "display_name": "Python 2",
   "language": "python",
   "name": "python2"
  },
  "language_info": {
   "codemirror_mode": {
    "name": "ipython",
    "version": 2
   },
   "file_extension": ".py",
   "mimetype": "text/x-python",
   "name": "python",
   "nbconvert_exporter": "python",
   "pygments_lexer": "ipython2",
   "version": "2.7.13"
  }
 },
 "nbformat": 4,
 "nbformat_minor": 2
}
